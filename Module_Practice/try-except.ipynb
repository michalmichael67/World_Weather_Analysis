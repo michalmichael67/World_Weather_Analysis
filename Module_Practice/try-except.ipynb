{
 "cells": [
  {
   "cell_type": "code",
   "execution_count": 1,
   "id": "96320b24",
   "metadata": {},
   "outputs": [],
   "source": [
    "import requests as req\n",
    "from config import weather_api_key"
   ]
  },
  {
   "cell_type": "code",
   "execution_count": 4,
   "id": "c20caa3e",
   "metadata": {},
   "outputs": [],
   "source": [
    "url = \"http://api.openweathermap.org/data/2.5/weather?units=Imperial&APPID=\" + weather_api_key"
   ]
  },
  {
   "cell_type": "code",
   "execution_count": 8,
   "id": "00c48ce9",
   "metadata": {},
   "outputs": [],
   "source": [
    "cities = [\"Pittsburgh\", \"Austin\", \"New  York\", \"Los Angeles\", \"Seattle\"]"
   ]
  },
  {
   "cell_type": "code",
   "execution_count": 12,
   "id": "9cfdd05c",
   "metadata": {},
   "outputs": [
    {
     "name": "stdout",
     "output_type": "stream",
     "text": [
      "It is currently 39.07 degrees in Pittsburgh\n",
      "It is currently 71.31 degrees in Austin\n",
      "KeyError received for New  York\n",
      "It is currently 59.65 degrees in Los Angeles\n",
      "It is currently 41.25 degrees in Seattle\n"
     ]
    }
   ],
   "source": [
    "for city in cities:\n",
    "    try:\n",
    "        city_url = url + \"&q=\" + city\n",
    "        weather = req.get(city_url).json()\n",
    "        temp = weather['main']['temp']\n",
    "    except KeyError:\n",
    "        print(\"KeyError received for \" + city)\n",
    "        continue\n",
    "    print(\"It is currently \" +str(temp) + \" degrees in \" + city)"
   ]
  },
  {
   "cell_type": "code",
   "execution_count": null,
   "id": "540b83a8",
   "metadata": {},
   "outputs": [],
   "source": []
  },
  {
   "cell_type": "code",
   "execution_count": null,
   "id": "1696a030",
   "metadata": {},
   "outputs": [],
   "source": []
  },
  {
   "cell_type": "code",
   "execution_count": null,
   "id": "2c28da1c",
   "metadata": {},
   "outputs": [],
   "source": []
  }
 ],
 "metadata": {
  "kernelspec": {
   "display_name": "PythonData",
   "language": "python",
   "name": "pythondata"
  },
  "language_info": {
   "codemirror_mode": {
    "name": "ipython",
    "version": 3
   },
   "file_extension": ".py",
   "mimetype": "text/x-python",
   "name": "python",
   "nbconvert_exporter": "python",
   "pygments_lexer": "ipython3",
   "version": "3.7.10"
  }
 },
 "nbformat": 4,
 "nbformat_minor": 5
}
