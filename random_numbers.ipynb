{
 "cells": [
  {
   "cell_type": "code",
   "execution_count": 11,
   "id": "18a8a97d",
   "metadata": {},
   "outputs": [],
   "source": [
    "import random"
   ]
  },
  {
   "cell_type": "code",
   "execution_count": 3,
   "id": "490b5428",
   "metadata": {},
   "outputs": [
    {
     "data": {
      "text/plain": [
       "0.38486787770541886"
      ]
     },
     "execution_count": 3,
     "metadata": {},
     "output_type": "execute_result"
    }
   ],
   "source": [
    "random.random()"
   ]
  },
  {
   "cell_type": "code",
   "execution_count": 4,
   "id": "4ba11472",
   "metadata": {},
   "outputs": [
    {
     "data": {
      "text/plain": [
       "2"
      ]
     },
     "execution_count": 4,
     "metadata": {},
     "output_type": "execute_result"
    }
   ],
   "source": [
    "random.randint(-10,10)"
   ]
  },
  {
   "cell_type": "code",
   "execution_count": 8,
   "id": "ba26acaf",
   "metadata": {},
   "outputs": [
    {
     "data": {
      "text/plain": [
       "-3"
      ]
     },
     "execution_count": 8,
     "metadata": {},
     "output_type": "execute_result"
    }
   ],
   "source": [
    "random.randrange(-9, 9, 2)"
   ]
  },
  {
   "cell_type": "code",
   "execution_count": 11,
   "id": "e8cfafeb",
   "metadata": {},
   "outputs": [
    {
     "data": {
      "text/plain": [
       "1.7903361291779625"
      ]
     },
     "execution_count": 11,
     "metadata": {},
     "output_type": "execute_result"
    }
   ],
   "source": [
    "random.uniform(-10,10)"
   ]
  },
  {
   "cell_type": "code",
   "execution_count": 14,
   "id": "6387d749",
   "metadata": {},
   "outputs": [
    {
     "data": {
      "text/plain": [
       "-45.359942375010284"
      ]
     },
     "execution_count": 14,
     "metadata": {},
     "output_type": "execute_result"
    }
   ],
   "source": [
    "random_number = random.randint(-90,89) + random.random()\n",
    "random_number"
   ]
  },
  {
   "cell_type": "code",
   "execution_count": 16,
   "id": "763dba64",
   "metadata": {},
   "outputs": [
    {
     "data": {
      "text/plain": [
       "[-58.04656006151537,\n",
       " -0.8312990814482397,\n",
       " 72.2239479025474,\n",
       " 37.07779796226189,\n",
       " 48.079922865630785,\n",
       " 9.452014984418728,\n",
       " 73.40290518078876,\n",
       " -79.72911634925454,\n",
       " -55.09910770741195,\n",
       " -18.179525041366368]"
      ]
     },
     "execution_count": 16,
     "metadata": {},
     "output_type": "execute_result"
    }
   ],
   "source": [
    "x=1\n",
    "latitudes = []\n",
    "while x < 11:\n",
    "    random_lat = random.randint(-90,89) +random.random()\n",
    "    latitudes.append(random_lat)\n",
    "    x += 1\n",
    "latitudes"
   ]
  },
  {
   "cell_type": "code",
   "execution_count": 17,
   "id": "dcafb66c",
   "metadata": {},
   "outputs": [],
   "source": [
    "import numpy as np"
   ]
  },
  {
   "cell_type": "code",
   "execution_count": 19,
   "id": "9a10c4ed",
   "metadata": {},
   "outputs": [
    {
     "data": {
      "text/plain": [
       "array([-15.93038618,  21.43737377, -74.44003382,  23.96902598,\n",
       "        71.91808706, -62.83878754,  55.28066162,  81.4659953 ,\n",
       "       -78.91325717, -22.97137521,  50.64122307,  52.57762764,\n",
       "        -9.33381896,   0.57788711, -14.74045501, -86.87774652,\n",
       "        20.40467468, -53.26550028, -56.96860625,  84.89071953,\n",
       "       -30.57790827,  82.18740802, -50.16355022, -58.35063789,\n",
       "        60.34913994,  23.8142578 ,  60.89327042,  -8.45920624,\n",
       "       -16.46272417,  22.35103414, -80.44013585, -64.70926658,\n",
       "       -77.13106227, -29.06222596, -48.83891254,  64.19406699,\n",
       "        84.0036522 ,  35.32851384, -64.71997699, -24.0800479 ,\n",
       "       -11.69828859, -29.21703454,  71.5817809 , -38.99232986,\n",
       "       -54.56673494, -10.80124048,  61.76551694,  20.94551598,\n",
       "        56.18641665,  52.00934129])"
      ]
     },
     "execution_count": 19,
     "metadata": {},
     "output_type": "execute_result"
    }
   ],
   "source": [
    "np.random.uniform(-90.000, 90.000, size = 50)"
   ]
  },
  {
   "cell_type": "code",
   "execution_count": 20,
   "id": "03e5ff66",
   "metadata": {},
   "outputs": [],
   "source": [
    "import timeit"
   ]
  },
  {
   "cell_type": "code",
   "execution_count": 21,
   "id": "e6ca4cb0",
   "metadata": {},
   "outputs": [
    {
     "name": "stdout",
     "output_type": "stream",
     "text": [
      "10.9 µs ± 133 ns per loop (mean ± std. dev. of 7 runs, 100000 loops each)\n"
     ]
    }
   ],
   "source": [
    "%timeit np.random.uniform(-90.000, 90.000, size = 1500)"
   ]
  },
  {
   "cell_type": "code",
   "execution_count": 22,
   "id": "f6d80c34",
   "metadata": {},
   "outputs": [
    {
     "name": "stdout",
     "output_type": "stream",
     "text": [
      "1.61 ms ± 69.5 µs per loop (mean ± std. dev. of 7 runs, 1000 loops each)\n"
     ]
    }
   ],
   "source": [
    "def latitudes(size):\n",
    "    latitudes = []\n",
    "    x = 0\n",
    "    while x < (size):\n",
    "        random_lat = random.randint(-90,90) + random.random()\n",
    "        latitudes.append(random_lat)\n",
    "        x+=1\n",
    "    return latitudes\n",
    "%timeit latitudes(1500)"
   ]
  },
  {
   "cell_type": "code",
   "execution_count": 1,
   "id": "03abb2bc",
   "metadata": {},
   "outputs": [],
   "source": [
    "from scipy.stats import linregress"
   ]
  },
  {
   "cell_type": "code",
   "execution_count": 16,
   "id": "162a7a84",
   "metadata": {},
   "outputs": [],
   "source": [
    "lats = [42.5, 43.9, 8.1, 36.8, 79.9, 69.1, 25.7, 15.3, 12.7, 64.5]\n",
    "temps = [80.5, 75.3, 90.9, 90.0, 40.4, 62.3, 85.4, 79.6, 72.5, 72.0]"
   ]
  },
  {
   "cell_type": "code",
   "execution_count": 17,
   "id": "ffefbbbd",
   "metadata": {},
   "outputs": [
    {
     "name": "stdout",
     "output_type": "stream",
     "text": [
      "y = -0.45x + 92.94\n",
      "The p-value is: 0.011\n"
     ]
    }
   ],
   "source": [
    "(slope, intercept, r_value, p_value, std_err) = linregress(lats, temps)\n",
    "\n",
    "line_eq = \"y = \" + str(round(slope,2)) + \"x + \" + str(round(intercept,2))\n",
    "\n",
    "print(line_eq)\n",
    "print(f\"The p-value is: {p_value:.3f}\")"
   ]
  },
  {
   "cell_type": "code",
   "execution_count": 18,
   "id": "709964d3",
   "metadata": {},
   "outputs": [],
   "source": [
    "regress_values = [(lat*slope+intercept) for lat in lats]"
   ]
  },
  {
   "cell_type": "code",
   "execution_count": 19,
   "id": "9c1726cb",
   "metadata": {},
   "outputs": [
    {
     "data": {
      "image/png": "[encoded data removed]",
      "text/plain": [
       "<Figure size 432x288 with 1 Axes>"
      ]
     },
     "metadata": {
      "needs_background": "light"
     },
     "output_type": "display_data"
    }
   ],
   "source": [
    "import matplotlib.pyplot as plt\n",
    "\n",
    "plt.scatter(lats, temps)\n",
    "plt.plot(lats, regress_values, \"r\")\n",
    "plt.annotate(line_eq, (10,40), fontsize = 15, color = \"red\")\n",
    "plt.xlabel(\"Latitudes\")\n",
    "plt.ylabel(\"Temperatures\")\n",
    "plt.show()"
   ]
  },
  {
   "cell_type": "code",
   "execution_count": 12,
   "id": "e39ebe63",
   "metadata": {},
   "outputs": [
    {
     "data": {
      "text/plain": [
       "[0.7904455772062905,\n",
       " 37.75373720294705,\n",
       " 63.180444045209796,\n",
       " 89.41300182966677,\n",
       " 58.73808832557556,\n",
       " 70.82135602422024,\n",
       " 77.30531822150013,\n",
       " 66.89539360482917,\n",
       " 10.102499166236509,\n",
       " 5.192661735358587]"
      ]
     },
     "execution_count": 12,
     "metadata": {},
     "output_type": "execute_result"
    }
   ],
   "source": [
    "x=1\n",
    "latitudes = []\n",
    "while x < 11:\n",
    "    random_lat = random.randint(0,89) + random.random()\n",
    "    latitudes.append(random_lat)\n",
    "    x += 1\n",
    "latitudes"
   ]
  },
  {
   "cell_type": "code",
   "execution_count": 13,
   "id": "90cdce3f",
   "metadata": {},
   "outputs": [],
   "source": [
    "regress_values = [(lat*slope+intercept) for lat in latitudes]"
   ]
  }
 ],
 "metadata": {
  "kernelspec": {
   "display_name": "PythonData",
   "language": "python",
   "name": "pythondata"
  },
  "language_info": {
   "codemirror_mode": {
    "name": "ipython",
    "version": 3
   },
   "file_extension": ".py",
   "mimetype": "text/x-python",
   "name": "python",
   "nbconvert_exporter": "python",
   "pygments_lexer": "ipython3",
   "version": "3.7.10"
  }
 },
 "nbformat": 4,
 "nbformat_minor": 5
}
